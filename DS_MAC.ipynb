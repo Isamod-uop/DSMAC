{
  "nbformat": 4,
  "nbformat_minor": 0,
  "metadata": {
    "colab": {
      "provenance": []
    },
    "kernelspec": {
      "name": "python3",
      "display_name": "Python 3"
    },
    "language_info": {
      "name": "python"
    }
  },
  "cells": [
    {
      "cell_type": "code",
      "execution_count": 6,
      "metadata": {
        "colab": {
          "base_uri": "https://localhost:8080/"
        },
        "id": "xt5YpWDTVy90",
        "outputId": "95296e45-7793-4e5d-bcf5-4d12fcd55ab1"
      },
      "outputs": [
        {
          "output_type": "stream",
          "name": "stdout",
          "text": [
            "Message with timestamp: Transfer $1000 to Oscar|Timestamp:2024-11-18 21:22:39|Epoch:1731964959\n",
            "First attempt: True Message verified successfully.\n",
            "Replay attempt after time window: False Replay detected: Timestamp expired. UTC: 2024-11-18 21:22:39\n"
          ]
        }
      ],
      "source": [
        "from cryptography.hazmat.primitives.asymmetric import rsa, padding\n",
        "from cryptography.hazmat.primitives.hashes import SHA256\n",
        "from cryptography.hazmat.primitives import serialization\n",
        "import time\n",
        "from datetime import datetime\n",
        "\n",
        "# Generate RSA keys\n",
        "private_key = rsa.generate_private_key(public_exponent=65537, key_size=2048)\n",
        "public_key = private_key.public_key()\n",
        "\n",
        "# Sender (Alice): Create message with timestamp in UTC and sign it\n",
        "def sign_message_with_timestamp(message):\n",
        "    timestamp = int(time.time())  # Current timestamp (seconds since epoch)\n",
        "    utc_timestamp = datetime.utcfromtimestamp(timestamp).strftime('%Y-%m-%d %H:%M:%S')  # UTC format\n",
        "    message_with_timestamp = f\"{message}|Timestamp:{utc_timestamp}|Epoch:{timestamp}\"\n",
        "    signature = private_key.sign(\n",
        "        message_with_timestamp.encode(),\n",
        "        padding.PSS(mgf=padding.MGF1(SHA256()), salt_length=padding.PSS.MAX_LENGTH),\n",
        "        SHA256()\n",
        "    )\n",
        "    return message_with_timestamp, signature\n",
        "\n",
        "# Receiver (Bob): Verify message, signature, and timestamp\n",
        "def verify_message_with_timestamp(message_with_timestamp, signature, time_window=30):\n",
        "    try:\n",
        "        # Parse message and extract UTC and epoch timestamps\n",
        "        parts = message_with_timestamp.split('|')\n",
        "        message = parts[0]\n",
        "        utc_timestamp = parts[1].split(':', 1)[1]\n",
        "        epoch_timestamp = int(parts[2].split(':', 1)[1])\n",
        "    except ValueError:\n",
        "        return False, \"Malformed message format.\"\n",
        "\n",
        "    # Check timestamp freshness\n",
        "    current_time = int(time.time())\n",
        "    if current_time - epoch_timestamp > time_window:\n",
        "        return False, f\"Replay detected: Timestamp expired. UTC: {utc_timestamp}\"\n",
        "\n",
        "    # Verify signature\n",
        "    try:\n",
        "        public_key.verify(\n",
        "            signature,\n",
        "            message_with_timestamp.encode(),\n",
        "            padding.PSS(mgf=padding.MGF1(SHA256()), salt_length=padding.PSS.MAX_LENGTH),\n",
        "            SHA256()\n",
        "        )\n",
        "        return True, \"Message verified successfully.\"\n",
        "    except Exception:\n",
        "        return False, \"Signature verification failed.\"\n",
        "\n",
        "# Example Usage\n",
        "message = \"Transfer $1000 to Oscar\"\n",
        "message_with_timestamp, signature = sign_message_with_timestamp(message)\n",
        "\n",
        "# First attempt (valid)\n",
        "print(\"Message with timestamp:\", message_with_timestamp)\n",
        "result, explanation = verify_message_with_timestamp(message_with_timestamp, signature)\n",
        "print(\"First attempt:\", result, explanation)\n",
        "\n",
        "# Replay attempt after time window expires\n",
        "time.sleep(31)  # Simulate delay\n",
        "result, explanation = verify_message_with_timestamp(message_with_timestamp, signature)\n",
        "print(\"Replay attempt after time window:\", result, explanation)"
      ]
    },
    {
      "cell_type": "code",
      "source": [
        "import hmac\n",
        "import hashlib\n",
        "import random\n",
        "\n",
        "# Shared secret key between Alice and Bob\n",
        "shared_key = b'secret_key'\n",
        "\n",
        "# Sender (Alice): Create message with nonce and MAC\n",
        "def create_message_with_nonce(message):\n",
        "    nonce = random.randint(100000, 999999)  # Generate random nonce\n",
        "    print(f\"Generated nonce (sample): {nonce}\")  # Display sample nonce\n",
        "    message_with_nonce = f\"{message}|Nonce:{nonce}\"\n",
        "    mac = hmac.new(shared_key, message_with_nonce.encode(), hashlib.sha256).hexdigest()\n",
        "    return message_with_nonce, mac\n",
        "\n",
        "# Receiver (Bob): Verify message, MAC, and nonce\n",
        "received_nonces = set()  # To track previously received nonces\n",
        "\n",
        "def verify_message_with_nonce(message_with_nonce, mac):\n",
        "    try:\n",
        "        message, nonce_str = message_with_nonce.rsplit('|', 1)\n",
        "        nonce = int(nonce_str.split(':')[1])\n",
        "    except ValueError:\n",
        "        return False, \"Malformed message format.\"\n",
        "\n",
        "    # Check nonce uniqueness\n",
        "    if nonce in received_nonces:\n",
        "        return False, \"Replay detected: Nonce repeated.\"\n",
        "    received_nonces.add(nonce)\n",
        "\n",
        "    # Verify MAC\n",
        "    expected_mac = hmac.new(shared_key, message_with_nonce.encode(), hashlib.sha256).hexdigest()\n",
        "    if hmac.compare_digest(expected_mac, mac):\n",
        "        return True, \"Message verified successfully.\"\n",
        "    else:\n",
        "        return False, \"MAC verification failed.\"\n",
        "\n",
        "# Example Usage\n",
        "message = \"Transfer $1000 to Oscar\"\n",
        "\n",
        "# First attempt: Valid message\n",
        "message_with_nonce, mac = create_message_with_nonce(message)\n",
        "print(\"Message with nonce and MAC:\", message_with_nonce, mac)\n",
        "result, explanation = verify_message_with_nonce(message_with_nonce, mac)\n",
        "print(\"First attempt:\", result, explanation)\n",
        "\n",
        "# Replay attempt: Invalid due to repeated nonce\n",
        "result, explanation = verify_message_with_nonce(message_with_nonce, mac)\n",
        "print(\"Replay attempt:\", result, explanation)"
      ],
      "metadata": {
        "colab": {
          "base_uri": "https://localhost:8080/"
        },
        "id": "It5S4agLhp_y",
        "outputId": "7fe58dca-fc70-460e-f798-819fc6c5bf76"
      },
      "execution_count": 7,
      "outputs": [
        {
          "output_type": "stream",
          "name": "stdout",
          "text": [
            "Generated nonce (sample): 222949\n",
            "Message with nonce and MAC: Transfer $1000 to Oscar|Nonce:222949 be68b6b7f61b743d11429128f702882e043c8a23784119ad90c149bf9ae116cb\n",
            "First attempt: True Message verified successfully.\n",
            "Replay attempt: False Replay detected: Nonce repeated.\n"
          ]
        }
      ]
    }
  ]
}